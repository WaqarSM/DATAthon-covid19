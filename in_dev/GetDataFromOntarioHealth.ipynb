{
 "cells": [
  {
   "cell_type": "code",
   "execution_count": 8,
   "metadata": {},
   "outputs": [],
   "source": [
    "\n",
    "\n",
    "import requests\n",
    "import lxml.html as lh\n",
    "import pandas as pd\n",
    "import matplotlib.pyplot as plt"
   ]
  },
  {
   "cell_type": "code",
   "execution_count": 9,
   "metadata": {},
   "outputs": [],
   "source": [
    "# url = \"https://web.archive.org/web/20200320124341/https://www.ontario.ca/page/2019-novel-coronavirus\"\n",
    "url = 'https://www.ontario.ca/page/2019-novel-coronavirus'\n",
    "#Create a handle, page, to handle the contents of the website\n",
    "page = requests.get(url)\n",
    "#Store the contents of the website under doc\n",
    "doc = lh.fromstring(page.content)\n",
    "#Parse data that are stored between <tr>..</tr> of HTML\n",
    "tr_elements = doc.xpath('tr')"
   ]
  },
  {
   "cell_type": "code",
   "execution_count": null,
   "metadata": {},
   "outputs": [],
   "source": []
  },
  {
   "cell_type": "code",
   "execution_count": null,
   "metadata": {},
   "outputs": [],
   "source": []
  },
  {
   "cell_type": "code",
   "execution_count": null,
   "metadata": {},
   "outputs": [],
   "source": []
  },
  {
   "cell_type": "code",
   "execution_count": 10,
   "metadata": {},
   "outputs": [],
   "source": [
    "canada_Data=\"https://health-infobase.canada.ca/src/data/covidLive/covid19.csv\"\n",
    "data = pd.read_csv(canada_Data)"
   ]
  },
  {
   "cell_type": "code",
   "execution_count": 11,
   "metadata": {},
   "outputs": [
    {
     "data": {
      "text/plain": [
       "[<matplotlib.lines.Line2D at 0x120c3ecc0>]"
      ]
     },
     "execution_count": 11,
     "metadata": {},
     "output_type": "execute_result"
    },
    {
     "data": {
      "image/png": "[encoded data removed]",
      "text/plain": [
       "<Figure size 432x288 with 1 Axes>"
      ]
     },
     "metadata": {
      "needs_background": "light"
     },
     "output_type": "display_data"
    }
   ],
   "source": [
    "df=data\n",
    "df_temp=df[df[\"prname\"]==\"Ontario\"]\n",
    "ont_cases=df_temp[\"numconf\"].to_numpy()\n",
    "dt_temp_dates=df_temp[\"date\"].to_numpy()\n",
    "\n",
    "plt.plot(ont_cases)"
   ]
  },
  {
   "cell_type": "code",
   "execution_count": 12,
   "metadata": {},
   "outputs": [
    {
     "data": {
      "text/plain": [
       "array(['31-01-2020', '08-02-2020', '16-02-2020', '21-02-2020',\n",
       "       '24-02-2020', '25-02-2020', '26-02-2020', '27-02-2020',\n",
       "       '29-02-2020', '01-03-2020', '03-03-2020', '05-03-2020',\n",
       "       '06-03-2020', '07-03-2020', '08-03-2020', '09-03-2020',\n",
       "       '11-03-2020', '12-03-2020', '13-03-2020', '14-03-2020',\n",
       "       '15-03-2020', '16-03-2020', '17-03-2020', '18-03-2020',\n",
       "       '19-03-2020', '20-03-2020', '21-03-2020', '22-03-2020',\n",
       "       '23-03-2020', '24-03-2020', '25-03-2020', '26-03-2020',\n",
       "       '27-03-2020', '28-03-2020', '29-03-2020', '30-03-2020',\n",
       "       '31-03-2020', '01-04-2020', '02-04-2020', '03-04-2020',\n",
       "       '04-04-2020', '05-04-2020', '06-04-2020', '07-04-2020',\n",
       "       '08-04-2020'], dtype=object)"
      ]
     },
     "execution_count": 12,
     "metadata": {},
     "output_type": "execute_result"
    }
   ],
   "source": [
    "dt_temp_dates"
   ]
  },
  {
   "cell_type": "code",
   "execution_count": null,
   "metadata": {},
   "outputs": [],
   "source": []
  }
 ],
 "metadata": {
  "kernelspec": {
   "display_name": "Python 3",
   "language": "python",
   "name": "python3"
  },
  "language_info": {
   "codemirror_mode": {
    "name": "ipython",
    "version": 3
   },
   "file_extension": ".py",
   "mimetype": "text/x-python",
   "name": "python",
   "nbconvert_exporter": "python",
   "pygments_lexer": "ipython3",
   "version": "3.7.3"
  }
 },
 "nbformat": 4,
 "nbformat_minor": 2
}
