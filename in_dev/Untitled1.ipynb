{
 "cells": [
  {
   "cell_type": "code",
   "execution_count": 2,
   "metadata": {},
   "outputs": [],
   "source": [
    "import numpy as np\n",
    "# %matplotlib inline\n",
    "import matplotlib.pyplot as plt\n",
    "from scipy.optimize import curve_fit\n",
    "from scipy import optimize\n",
    "import pandas as pd\n",
    "import seaborn as sns"
   ]
  },
  {
   "cell_type": "code",
   "execution_count": 3,
   "metadata": {},
   "outputs": [],
   "source": [
    "def func(x, L, k, M):\n",
    "    return ( L /( 1 + np.exp(-1 * k * ( x - M ))))"
   ]
  },
  {
   "cell_type": "code",
   "execution_count": 11,
   "metadata": {},
   "outputs": [
    {
     "name": "stdout",
     "output_type": "stream",
     "text": [
      "\n",
      "\n",
      "\n",
      "latest data is for day: 72,72\n",
      "sigma+: 3438.866760859523\n",
      "n+1: 3342.436991359137\n",
      "sigma-: 3311.574365501084\n"
     ]
    }
   ],
   "source": [
    "# Auto Fit for: Ontraio | Number of Cases \n",
    "# y = L/(1+exp(-K*(x-M)))\n",
    "# L‎: 34948526.1 +/- 111.417518\n",
    "# K‎: 0.173463721 +/- 0.000901367227\n",
    "# M‎: 125.353149 +/- 0.295341782\n",
    "# Correlation: 0.999725394\n",
    "# RMSE: 13.4181176 \n",
    "\n",
    "\n",
    "days=72\n",
    "\n",
    "paramsLOGGER=[34948526.1, 0.173463721,125.353149]\n",
    "sigmaLOGGER=[111.417518,0.000901367227,0.295341782]\n",
    "st=6\n",
    "\n",
    "# days=-1\n",
    "sigNeg=func(days, paramsLOGGER[0]+sigmaLOGGER[0], paramsLOGGER[1]+sigmaLOGGER[1], paramsLOGGER[2]-sigmaLOGGER[2])\n",
    "value = func(days, paramsLOGGER[0], paramsLOGGER[1], paramsLOGGER[2])\n",
    "sigPos = func(days, paramsLOGGER[0]-sigmaLOGGER[0], paramsLOGGER[1]-sigmaLOGGER[1], paramsLOGGER[2]+sigmaLOGGER[2])\n",
    "\n",
    "\n",
    "print()\n",
    "print()\n",
    "print()\n",
    "print(\"latest data is for day: \" +str(days)+ \",\"+ str(days))\n",
    "print(\"sigma+: \"+ str(func(days, paramsLOGGER[0]+sigmaLOGGER[0]*st, paramsLOGGER[1]+sigmaLOGGER[1]*st, paramsLOGGER[2]-sigmaLOGGER[2]*st)))\n",
    "print(\"n+1: \"+ str(func(days, paramsLOGGER[0], paramsLOGGER[1], paramsLOGGER[2])))\n",
    "print(\"sigma-: \"+ str(func(days, paramsLOGGER[0]-sigmaLOGGER[0]*st, paramsLOGGER[1]-sigmaLOGGER[1]*st, paramsLOGGER[2]+sigmaLOGGER[2]*st)))\n",
    "\n"
   ]
  },
  {
   "cell_type": "code",
   "execution_count": null,
   "metadata": {},
   "outputs": [],
   "source": []
  },
  {
   "cell_type": "code",
   "execution_count": 27,
   "metadata": {},
   "outputs": [
    {
     "ename": "AttributeError",
     "evalue": "'numpy.ndarray' object has no attribute 'tanspose'",
     "output_type": "error",
     "traceback": [
      "\u001b[0;31m---------------------------------------------------------------------------\u001b[0m",
      "\u001b[0;31mAttributeError\u001b[0m                            Traceback (most recent call last)",
      "\u001b[0;32m<ipython-input-27-9433684c8ec7>\u001b[0m in \u001b[0;36m<module>\u001b[0;34m\u001b[0m\n\u001b[1;32m      3\u001b[0m \u001b[0mdates\u001b[0m\u001b[0;34m=\u001b[0m\u001b[0mnp\u001b[0m\u001b[0;34m.\u001b[0m\u001b[0marange\u001b[0m\u001b[0;34m(\u001b[0m\u001b[0;36m0\u001b[0m\u001b[0;34m,\u001b[0m\u001b[0mlen\u001b[0m\u001b[0;34m(\u001b[0m\u001b[0mdeltacases\u001b[0m\u001b[0;34m)\u001b[0m\u001b[0;34m)\u001b[0m\u001b[0;34m.\u001b[0m\u001b[0mastype\u001b[0m\u001b[0;34m(\u001b[0m\u001b[0mfloat\u001b[0m\u001b[0;34m)\u001b[0m\u001b[0;34m\u001b[0m\u001b[0;34m\u001b[0m\u001b[0m\n\u001b[1;32m      4\u001b[0m \u001b[0;34m\u001b[0m\u001b[0m\n\u001b[0;32m----> 5\u001b[0;31m \u001b[0mnp\u001b[0m\u001b[0;34m.\u001b[0m\u001b[0mdigitize\u001b[0m\u001b[0;34m(\u001b[0m\u001b[0mdeltacases\u001b[0m\u001b[0;34m.\u001b[0m\u001b[0mtanspose\u001b[0m\u001b[0;34m,\u001b[0m \u001b[0;36m0\u001b[0m\u001b[0;34m)\u001b[0m\u001b[0;34m\u001b[0m\u001b[0;34m\u001b[0m\u001b[0m\n\u001b[0m",
      "\u001b[0;31mAttributeError\u001b[0m: 'numpy.ndarray' object has no attribute 'tanspose'"
     ]
    }
   ],
   "source": [
    "deltacases=[0,0,0,1,0,0,0,0,2,0,0,0,0,0,0,0,0,0,0,0,0,0,0,0,0,0,0,0,0,0,0,0,1,0,0,2,0,5,4,3,2,0,2,3,3,1,5,2,5,1,32,5,25,73,8,36,36,51,69,48,78,85,100,170,136,150,211,351,281,405]\n",
    "deltacases=np.asarray(deltacases).astype(float) \n",
    "dates=np.arange(0,len(deltacases)).astype(float) \n",
    "\n",
    "np.digitize(deltacases, 0)"
   ]
  },
  {
   "cell_type": "code",
   "execution_count": 19,
   "metadata": {},
   "outputs": [
    {
     "data": {
      "text/plain": [
       "<matplotlib.collections.PathCollection at 0x1a2133c2e8>"
      ]
     },
     "execution_count": 19,
     "metadata": {},
     "output_type": "execute_result"
    },
    {
     "data": {
      "image/png": "[encoded data removed]",
      "text/plain": [
       "<Figure size 432x288 with 1 Axes>"
      ]
     },
     "metadata": {
      "needs_background": "light"
     },
     "output_type": "display_data"
    }
   ],
   "source": [
    "\n",
    "plt.figure(figsize=(6, 4))\n",
    "plt.scatter(dates, deltacases)\n",
    "\n",
    "# plt.plot(np.arange(len(y_data)),y_data)"
   ]
  },
  {
   "cell_type": "code",
   "execution_count": null,
   "metadata": {},
   "outputs": [],
   "source": []
  }
 ],
 "metadata": {
  "kernelspec": {
   "display_name": "Python 3",
   "language": "python",
   "name": "python3"
  },
  "language_info": {
   "codemirror_mode": {
    "name": "ipython",
    "version": 3
   },
   "file_extension": ".py",
   "mimetype": "text/x-python",
   "name": "python",
   "nbconvert_exporter": "python",
   "pygments_lexer": "ipython3",
   "version": "3.7.3"
  }
 },
 "nbformat": 4,
 "nbformat_minor": 2
}
